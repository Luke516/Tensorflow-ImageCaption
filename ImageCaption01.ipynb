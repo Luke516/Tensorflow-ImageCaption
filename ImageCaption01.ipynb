{
 "cells": [
  {
   "cell_type": "code",
   "execution_count": 1,
   "metadata": {
    "collapsed": false
   },
   "outputs": [
    {
     "name": "stdout",
     "output_type": "stream",
     "text": [
      "This notebook uses TensorFlow version 1.4.1\n"
     ]
    }
   ],
   "source": [
    "import os\n",
    "os.environ['CUDA_VISIBLE_DEVICES'] = \"1\"\n",
    "import tensorflow as tf\n",
    "import pandas as pd\n",
    "import numpy as np\n",
    "import _pickle as cPickle\n",
    "\n",
    "print(\"This notebook uses TensorFlow version {}\".format(tf.__version__))"
   ]
  },
  {
   "cell_type": "code",
   "execution_count": 2,
   "metadata": {
    "collapsed": false
   },
   "outputs": [
    {
     "name": "stdout",
     "output_type": "stream",
     "text": [
      "total 26900 vocabularies\n"
     ]
    }
   ],
   "source": [
    "vocab = cPickle.load(open('dataset/vocab.pkl', 'rb'))\n",
    "print('total {} vocabularies'.format(len(vocab)))"
   ]
  },
  {
   "cell_type": "code",
   "execution_count": 3,
   "metadata": {
    "collapsed": false
   },
   "outputs": [
    {
     "name": "stdout",
     "output_type": "stream",
     "text": [
      "count vocabulary occurances...\n",
      "3153 words appear >= 50 times\n"
     ]
    }
   ],
   "source": [
    "def count_vocab_occurance(vocab, df):\n",
    "    voc_cnt = {v: 0 for v in vocab}\n",
    "    for img_id, row in df.iterrows():\n",
    "        for w in row['caption'].split(' '):\n",
    "            voc_cnt[w] += 1\n",
    "    return voc_cnt\n",
    "\n",
    "\n",
    "df_train = pd.read_csv(os.path.join('dataset', 'train.csv'))\n",
    "\n",
    "print('count vocabulary occurances...')\n",
    "voc_cnt = count_vocab_occurance(vocab, df_train)\n",
    "\n",
    "# remove words appear < 50 times\n",
    "thrhd = 50\n",
    "x = np.array(list(voc_cnt.values()))\n",
    "print('{} words appear >= 50 times'.format(np.sum(x[(-x).argsort()] >= thrhd)))"
   ]
  },
  {
   "cell_type": "code",
   "execution_count": 4,
   "metadata": {
    "collapsed": false
   },
   "outputs": [
    {
     "name": "stdout",
     "output_type": "stream",
     "text": [
      "[transform captions into sequences of IDs]...\n"
     ]
    }
   ],
   "source": [
    "def build_voc_mapping(voc_cnt, thrhd):\n",
    "    \"\"\"\n",
    "    enc_map: voc --encode--> id\n",
    "    dec_map: id --decode--> voc\n",
    "    \"\"\"\n",
    "\n",
    "    def add(enc_map, dec_map, voc):\n",
    "        enc_map[voc] = len(dec_map)\n",
    "        dec_map[len(dec_map)] = voc\n",
    "        return enc_map, dec_map\n",
    "\n",
    "    # add <ST>, <ED>, <RARE>\n",
    "    enc_map, dec_map = {}, {}\n",
    "    for voc in ['<ST>', '<ED>', '<RARE>']:\n",
    "        enc_map, dec_map = add(enc_map, dec_map, voc)\n",
    "    for voc, cnt in voc_cnt.items():\n",
    "        if cnt < thrhd:  # rare words => <RARE>\n",
    "            enc_map[voc] = enc_map['<RARE>']\n",
    "        else:\n",
    "            enc_map, dec_map = add(enc_map, dec_map, voc)\n",
    "    return enc_map, dec_map\n",
    "\n",
    "\n",
    "enc_map, dec_map = build_voc_mapping(voc_cnt, thrhd)\n",
    "# save enc/decoding map to disk\n",
    "cPickle.dump(enc_map, open('dataset/enc_map.pkl', 'wb'))\n",
    "cPickle.dump(dec_map, open('dataset/dec_map.pkl', 'wb'))\n",
    "def caption_to_ids(enc_map, df):\n",
    "    img_ids, caps = [], []\n",
    "    for idx, row in df.iterrows():\n",
    "        icap = [enc_map[x] for x in row['caption'].split(' ')]\n",
    "        icap.insert(0, enc_map['<ST>'])\n",
    "        icap.append(enc_map['<ED>'])\n",
    "        img_ids.append(row['img_id'])\n",
    "        caps.append(icap)\n",
    "    return pd.DataFrame({\n",
    "              'img_id': img_ids,\n",
    "              'caption': caps\n",
    "            }).set_index(['img_id'])\n",
    "\n",
    "\n",
    "enc_map = cPickle.load(open('dataset/enc_map.pkl', 'rb'))\n",
    "print('[transform captions into sequences of IDs]...')\n",
    "df_proc = caption_to_ids(enc_map, df_train)\n",
    "df_proc.to_csv('dataset/train_enc_cap.csv')"
   ]
  },
  {
   "cell_type": "code",
   "execution_count": 5,
   "metadata": {
    "collapsed": false
   },
   "outputs": [
    {
     "name": "stdout",
     "output_type": "stream",
     "text": [
      "decoding the encoded captions back...\n",
      "\n",
      "0: <ST> a group of three women sitting at a table sharing a cup of tea <ED>\n",
      "1: <ST> three women wearing hats at a table together <ED>\n",
      "2: <ST> three women with hats at a table having a tea party <ED>\n",
      "3: <ST> several woman dressed up with fancy hats at a tea party <ED>\n",
      "4: <ST> three women wearing large hats at a fancy tea event <ED>\n",
      "5: <ST> a twin door refrigerator in a kitchen next to cabinets <ED>\n",
      "6: <ST> a black refrigerator freezer sitting inside of a kitchen <ED>\n",
      "7: <ST> black refrigerator in messy kitchen of residential home <ED>\n"
     ]
    }
   ],
   "source": [
    "df_cap = pd.read_csv(\n",
    "    'dataset/train_enc_cap.csv')  # a dataframe - 'img_id', 'cpation'\n",
    "enc_map = cPickle.load(\n",
    "    open('dataset/enc_map.pkl', 'rb'))  # token => id\n",
    "dec_map = cPickle.load(\n",
    "    open('dataset/dec_map.pkl', 'rb'))  # id => token\n",
    "vocab_size = len(dec_map)\n",
    "\n",
    "\n",
    "def decode(dec_map, ids):\n",
    "    \"\"\"decode IDs back to origin caption string\"\"\"\n",
    "    return ' '.join([dec_map[x] for x in ids])\n",
    "\n",
    "\n",
    "print('decoding the encoded captions back...\\n')\n",
    "for idx, row in df_cap.iloc[:8].iterrows():\n",
    "    print('{}: {}'.format(idx, decode(dec_map, eval(row['caption']))))"
   ]
  },
  {
   "cell_type": "code",
   "execution_count": 6,
   "metadata": {
    "collapsed": false
   },
   "outputs": [
    {
     "name": "stdout",
     "output_type": "stream",
     "text": [
      "Images for training: 102739\n"
     ]
    }
   ],
   "source": [
    "img_train = cPickle.load(open('dataset/train_img256.pkl', 'rb'))\n",
    "# transform img_dict to dataframe\n",
    "img_train_df = pd.DataFrame(list(img_train.items()), columns=['img_id', 'img'])\n",
    "print('Images for training: {}'.format(img_train_df.shape[0]))"
   ]
  },
  {
   "cell_type": "code",
   "execution_count": 7,
   "metadata": {
    "collapsed": true
   },
   "outputs": [],
   "source": [
    "def create_tfrecords(df_cap, img_df, filename, num_files=5):\n",
    "    ''' create tfrecords for dataset '''\n",
    "\n",
    "    def _float_feature(value):\n",
    "        return tf.train.Feature(\n",
    "            float_list=tf.train.FloatList(value=value))\n",
    "\n",
    "    def _int64_feature(value):\n",
    "        return tf.train.Feature(\n",
    "            int64_list=tf.train.Int64List(value=value))\n",
    "\n",
    "    num_records_per_file = img_df.shape[0] // num_files\n",
    "\n",
    "    total_count = 0\n",
    "\n",
    "    print(\"create training dataset....\")\n",
    "    for i in range(num_files):\n",
    "        # tfrecord writer: write record into files\n",
    "        count = 0\n",
    "        writer = tf.python_io.TFRecordWriter(\n",
    "            filename + '-' + str(i + 1) +'.tfrecords')\n",
    "        \n",
    "        # start point (inclusive)\n",
    "        st = i * num_records_per_file  \n",
    "        # end point (exclusive)\n",
    "        ed = (i + 1) * num_records_per_file if i != num_files - 1 else img_df.shape[0]  \n",
    "\n",
    "        for idx, row in img_df.iloc[st:ed].iterrows():\n",
    "        \n",
    "            # img representation in 256-d array format\n",
    "            img_representation = row['img']  \n",
    "\n",
    "            # each image has some captions describing it.\n",
    "            for _, inner_row in df_cap[df_cap['img_id'] == row['img_id']].iterrows():\n",
    "                # caption in different sequence length list format\n",
    "                caption = eval(inner_row['caption'])  \n",
    "\n",
    "                # construct 'example' object containing 'img', 'caption'\n",
    "                example = tf.train.Example(features=tf.train.Features(\n",
    "                    feature={\n",
    "                        'img': _float_feature(img_representation),\n",
    "                        'caption': _int64_feature(caption)\n",
    "                    }))\n",
    "\n",
    "                count += 1\n",
    "                writer.write(example.SerializeToString())\n",
    "        print(\"create {}-{}.tfrecords -- contains {} records\".format(\n",
    "                                    filename, str(i + 1), count))\n",
    "        total_count += count\n",
    "        writer.close()\n",
    "    print(\"Total records: {}\".format(total_count))"
   ]
  },
  {
   "cell_type": "code",
   "execution_count": 8,
   "metadata": {
    "collapsed": true
   },
   "outputs": [],
   "source": [
    "# uncomment next line to create tfrecords file\n",
    "#create_tfrecords(df_cap, img_train_df, 'dataset/train', 10)"
   ]
  },
  {
   "cell_type": "code",
   "execution_count": 9,
   "metadata": {
    "collapsed": false
   },
   "outputs": [
    {
     "name": "stdout",
     "output_type": "stream",
     "text": [
      "Number of training records in all training file: 513969\n"
     ]
    }
   ],
   "source": [
    "import glob\n",
    "training_filenames = glob.glob('dataset/train-*')\n",
    "\n",
    "# get the number of records in training files\n",
    "def get_num_records(files):\n",
    "    count = 0\n",
    "    for fn in files:\n",
    "        for record in tf.python_io.tf_record_iterator(fn):\n",
    "            count += 1\n",
    "    return count\n",
    "\n",
    "num_train_records = get_num_records(training_filenames)\n",
    "print('Number of training records in all training file: {}'.format(\n",
    "    num_train_records))"
   ]
  },
  {
   "cell_type": "code",
   "execution_count": 10,
   "metadata": {
    "collapsed": true
   },
   "outputs": [],
   "source": [
    "def training_parser(record):\n",
    "    ''' parse record from .tfrecords file and create training record\n",
    "\n",
    "    :args \n",
    "      record - each record extracted from .tfrecords\n",
    "    :return\n",
    "      a dictionary contains {\n",
    "          'img': image array extracted from vgg16 (256-dim),\n",
    "          'input_seq': a list of word id\n",
    "                    which describes input caption sequence (Tensor),\n",
    "          'output_seq': a list of word id\n",
    "                    which describes output caption sequence (Tensor),\n",
    "          'mask': a list of one which describe\n",
    "                    the length of input caption sequence (Tensor)\n",
    "      }\n",
    "    '''\n",
    "\n",
    "    keys_to_features = {\n",
    "      \"img\": tf.FixedLenFeature([256], dtype=tf.float32),\n",
    "      \"caption\": tf.VarLenFeature(dtype=tf.int64)\n",
    "    }\n",
    "\n",
    "    # features contains - 'img', 'caption'\n",
    "    features = tf.parse_single_example(record, features=keys_to_features)\n",
    "\n",
    "    img = features['img']\n",
    "    caption = features['caption'].values\n",
    "    caption = tf.cast(caption, tf.int32)\n",
    "\n",
    "    # create input and output sequence for each training example\n",
    "    # e.g. caption :   [0 2 5 7 9 1]\n",
    "    #      input_seq:  [0 2 5 7 9]\n",
    "    #      output_seq: [2 5 7 9 1]\n",
    "    #      mask:       [1 1 1 1 1]\n",
    "    caption_len = tf.shape(caption)[0]\n",
    "    input_len = tf.expand_dims(tf.subtract(caption_len, 1), 0)\n",
    "\n",
    "    input_seq = tf.slice(caption, [0], input_len)\n",
    "    output_seq = tf.slice(caption, [1], input_len)\n",
    "    mask = tf.ones(input_len, dtype=tf.int32)\n",
    "\n",
    "    records = {\n",
    "      'img': img,\n",
    "      'input_seq': input_seq,\n",
    "      'output_seq': output_seq,\n",
    "      'mask': mask,\n",
    "      'input_len' : input_len\n",
    "    }\n",
    "\n",
    "    return records"
   ]
  },
  {
   "cell_type": "code",
   "execution_count": 11,
   "metadata": {
    "collapsed": false
   },
   "outputs": [],
   "source": [
    "def tfrecord_iterator(filenames, batch_size, record_parser):\n",
    "    ''' create iterator to eat tfrecord dataset \n",
    "\n",
    "    :args\n",
    "        filenames     - a list of filenames (string)\n",
    "        batch_size    - batch size (positive int)\n",
    "        record_parser - a parser that read tfrecord\n",
    "                        and create example record (function)\n",
    "\n",
    "    :return \n",
    "        iterator      - an Iterator providing a way\n",
    "                        to extract elements from the created dataset.\n",
    "        output_types  - the output types of the created dataset.\n",
    "        output_shapes - the output shapes of the created dataset.\n",
    "    '''\n",
    "    dataset = tf.data.TFRecordDataset(filenames)\n",
    "    dataset = dataset.map(record_parser, num_parallel_calls=16)\n",
    "\n",
    "    # padded into equal length in each batch\n",
    "    dataset = dataset.padded_batch(\n",
    "      batch_size=batch_size,\n",
    "      padded_shapes={\n",
    "          'img': [None],\n",
    "          'input_seq': [None],\n",
    "          'output_seq': [None],\n",
    "          'mask': [None],\n",
    "          'input_len': [None]\n",
    "      },\n",
    "      padding_values={\n",
    "          'img': 1.0,       # needless, for completeness\n",
    "          'input_seq': 1,   # padding input sequence in this batch\n",
    "          'output_seq': 1,  # padding output sequence in this batch\n",
    "          'mask': 0,      # padding 0 means no words in this position\n",
    "          'input_len': 0\n",
    "      })  \n",
    "\n",
    "    dataset = dataset.repeat()             # repeat dataset infinitely\n",
    "    dataset = dataset.shuffle(3*batch_size)  # shuffle the dataset\n",
    "\n",
    "    iterator = dataset.make_initializable_iterator()\n",
    "    output_types = dataset.output_types\n",
    "    output_shapes = dataset.output_shapes\n",
    "\n",
    "    return iterator, output_types, output_shapes"
   ]
  },
  {
   "cell_type": "code",
   "execution_count": 12,
   "metadata": {
    "collapsed": true
   },
   "outputs": [],
   "source": [
    "def get_seq_embeddings(input_seq, vocab_size, word_embedding_size):\n",
    "    with tf.variable_scope('seq_embedding'), tf.device(\"/cpu:0\"):\n",
    "        embedding_matrix = tf.get_variable(\n",
    "            name='embedding_matrix',\n",
    "            shape=[vocab_size, word_embedding_size],\n",
    "            initializer=tf.random_uniform_initializer(minval=-1, maxval=1))\n",
    "        # [batch_size, padded_length, embedding_size]\n",
    "        seq_embeddings = tf.nn.embedding_lookup(embedding_matrix, input_seq)\n",
    "    return seq_embeddings"
   ]
  },
  {
   "cell_type": "code",
   "execution_count": 33,
   "metadata": {
    "collapsed": false
   },
   "outputs": [],
   "source": [
    "import time\n",
    "import sys\n",
    "\n",
    "class ImageCaptionModel(object):\n",
    "    ''' simple image caption model '''\n",
    "\n",
    "    def __init__(self, hparams):\n",
    "        self.hps = hparams\n",
    "\n",
    "    def _build_inputs(self):\n",
    "        \"\"\" construct the inputs for model \"\"\"\n",
    "        self.filenames = tf.placeholder(tf.string,shape=[None], name='filenames')\n",
    "        self.test_image = tf.placeholder(tf.float32, shape=[1, self.hps.image_embedding_size], name='test_image')\n",
    "        \n",
    "        self.training_iterator, types, shapes = tfrecord_iterator(\n",
    "          self.filenames, self.hps.batch_size, training_parser)\n",
    "\n",
    "        self.handle = tf.placeholder(tf.string, shape=[], name='handle')\n",
    "        self.iterator = tf.data.Iterator.from_string_handle(self.handle,\n",
    "                                                       types, shapes)\n",
    "        self.records = self.iterator.get_next()\n",
    "\n",
    "        image_embed = self.records['img']\n",
    "        image_embed.set_shape([None, self.hps.image_embedding_size])\n",
    "        input_seq = self.records['input_seq']\n",
    "        target_seq = self.records['output_seq']\n",
    "        input_mask = self.records['mask']\n",
    "        input_len = tf.reshape(self.records['input_len'], [-1])\n",
    "        \n",
    "        self.image_embed = image_embed # (batch_size, img_dim)\n",
    "        self.input_seq = input_seq # (batch_size, seqlen)\n",
    "        self.target_seq = target_seq # (batch_size, seqlen)\n",
    "        self.input_mask = input_mask # (batch_size, seqlen)\n",
    "        self.input_len = input_len #(batch_size, 1)\n",
    "            \n",
    "        # convert sequence of index to sequence of embedding\n",
    "        with tf.variable_scope('seq_embedding'), tf.device('/cpu:0'):\n",
    "            self.embedding_matrix = tf.get_variable(\n",
    "                    name='embedding_matrix',\n",
    "                    shape=[self.hps.vocab_size,\n",
    "                           self.hps.word_embedding_size],\n",
    "                    initializer=tf.random_uniform_initializer(\n",
    "                        minval=-1, maxval=1))\n",
    "            # [batch_size, seqlen, embedding_size]\n",
    "            self.seq_embeddings = tf.nn.embedding_lookup(\n",
    "                self.embedding_matrix, self.input_seq)\n",
    "        \n",
    "    def _build_model(self, mode=\"train\"):\n",
    "        \"\"\" Build your image caption model \"\"\"\n",
    "        \n",
    "        with tf.variable_scope('seq2seq_rnn'):\n",
    "            \n",
    "            self.out_cell = tf.contrib.rnn.LSTMCell(256)\n",
    "            \n",
    "            helper = tf.contrib.seq2seq.TrainingHelper(\n",
    "                inputs=self.seq_embeddings,\n",
    "                sequence_length=self.input_len)\n",
    "                \n",
    "#             if mode == \"test\":\n",
    "#                 helper = tf.contrib.seq2seq.GreedyEmbeddingHelper(\n",
    "#                     embedding = self.embedding_matrix,\n",
    "#                     start_tokens = tf.tile(tf.constant([0], dtype=tf.int32), [self.hps.batch_size]),\n",
    "#                     end_token = 1)\n",
    "                \n",
    "            projection_layer = tf.layers.Dense(self.hps.vocab_size, use_bias=False)\n",
    "            \n",
    "            initial_state = tf.nn.rnn_cell.LSTMStateTuple(\n",
    "            c=self.image_embed,\n",
    "            h=self.image_embed)\n",
    "            \n",
    "            decoder = tf.contrib.seq2seq.BasicDecoder(\n",
    "                cell=self.out_cell,\n",
    "                helper=helper,\n",
    "                initial_state=initial_state,\n",
    "                output_layer=projection_layer)\n",
    "            \n",
    "            outputs, _, _ = tf.contrib.seq2seq.dynamic_decode(\n",
    "               decoder=decoder,\n",
    "               output_time_major=False,\n",
    "               impute_finished=True#, maximum_iterations=20\n",
    "                )\n",
    "            \n",
    "        with tf.variable_scope('loss'):\n",
    "            self.global_step = tf.Variable(0, trainable=False)\n",
    "            logits = outputs.rnn_output\n",
    "            self.loss = tf.contrib.seq2seq.sequence_loss(logits = logits,\n",
    "                                                         targets = self.target_seq,\n",
    "                                                         weights = tf.cast(self.input_mask, dtype=tf.float32))\n",
    "\n",
    "\n",
    "            # create an optimizer\n",
    "            optimizer = tf.train.AdamOptimizer(learning_rate=self.hps.lr)\n",
    "            # compute the gradients of a list of variables\n",
    "            grads_and_vars = optimizer.compute_gradients(self.loss,tf.trainable_variables())\n",
    "            # grads_and_vars is a list of tuple (gradient, variable)\n",
    "            # do whatever you need to the 'gradients' part\n",
    "            clipped_grads_and_vars = [(tf.clip_by_norm(gv[0], 1.0), gv[1]) for gv in grads_and_vars]\n",
    "            # apply gradient and variables to optimizer\n",
    "            self.train_op = optimizer.apply_gradients( clipped_grads_and_vars, global_step=self.global_step)\n",
    "            \n",
    "        with tf.variable_scope('predict'):\n",
    "            predict_helper = tf.contrib.seq2seq.GreedyEmbeddingHelper(\n",
    "                embedding = self.embedding_matrix,\n",
    "                start_tokens = tf.tile(tf.constant([0], dtype=tf.int32), [self.hps.batch_size]),\n",
    "                end_token = 1)\n",
    "            \n",
    "            #self.test_image = tf.reshape(self.test_image, (-1, self.hps.image_embedding_size))\n",
    "            test_initial_state = tf.nn.rnn_cell.LSTMStateTuple(\n",
    "                    c=tf.contrib.seq2seq.tile_batch(self.test_image, multiplier=self.hps.batch_size),\n",
    "                    h=tf.contrib.seq2seq.tile_batch(self.test_image, multiplier=self.hps.batch_size))\n",
    "            \n",
    "            predict_decoder = tf.contrib.seq2seq.BasicDecoder(\n",
    "                cell=self.out_cell,\n",
    "                helper=predict_helper,\n",
    "                initial_state=test_initial_state,\n",
    "                output_layer=projection_layer)\n",
    "\n",
    "            output, _, _ = tf.contrib.seq2seq.dynamic_decode(predict_decoder)\n",
    "            self.predicting_logits = output.sample_id\n",
    "        \n",
    "    def build(self):\n",
    "        \"\"\" call this function to build the inputs and model \"\"\"\n",
    "        self._build_inputs()\n",
    "        self._build_model()\n",
    "        \n",
    "    def train(self, sess, training_filenames, num_train_records, model_version=None):\n",
    "        \"\"\" write a training function for your model \"\"\"\n",
    "        \n",
    "        saver = tf.train.Saver()\n",
    "        init =  tf.global_variables_initializer()\n",
    "        sess = tf.Session(config = config)\n",
    "        sess.run(init)\n",
    "        if model_version != None:\n",
    "            saver.restore(sess, self.hps.ckpt_dir+'model.ckpt-'+model_version)\n",
    "        \n",
    "        \n",
    "        training_handle = sess.run(self.training_iterator.string_handle())\n",
    "        sess.run(self.training_iterator.initializer, feed_dict={self.filenames: training_filenames,\n",
    "                                                        self.handle: training_handle})\n",
    "\n",
    "        \n",
    "        \n",
    "        steps = num_train_records//self.hps.batch_size\n",
    "            \n",
    "        for step in range(self.hps.training_epochs*steps):\n",
    "            start_time = time.time()\n",
    "\n",
    "            loss, _ = sess.run([self.loss, self.train_op], feed_dict={self.handle: training_handle})\n",
    "\n",
    "            duration = time.time() - start_time\n",
    "\n",
    "            assert not np.isnan(loss), 'Model diverged with loss = NaN'\n",
    "\n",
    "            if step % self.hps.print_frequency== 0:\n",
    "                num_examples_per_step = self.hps.batch_size\n",
    "                examples_per_sec = num_examples_per_step / duration\n",
    "                sec_per_batch = float(duration)\n",
    "\n",
    "                format_str = ('step %d, loss = %.5f (%.1f examples/sec; %.3f '\n",
    "                              'sec/batch)')\n",
    "                print (format_str % (step, loss,\n",
    "                                     examples_per_sec, sec_per_batch), file=open(self.hps.log_file, \"a\"))\n",
    "                print (format_str % (step, loss,\n",
    "                                     examples_per_sec, sec_per_batch))\n",
    "\n",
    "                sys.stdout.flush()\n",
    "                \n",
    "            if step % self.hps.save_frequency == 0:\n",
    "                saver.save(sess, self.hps.ckpt_dir + '/model.ckpt', global_step=step)\n",
    "        sess.close()\n",
    "    \n",
    "    def predict(self, sess, img_vec, dec_map, model_version=None, init=True):\n",
    "        \"\"\" generate the caption given an image \"\"\"\n",
    "           \n",
    "        if init:\n",
    "            init =  tf.global_variables_initializer()\n",
    "            sess.run(init)\n",
    "        if model_version != None:\n",
    "            saver = tf.train.Saver()\n",
    "            saver.restore(sess, self.hps.ckpt_dir+'model.ckpt-'+model_version)\n",
    "            \n",
    "        img_vec = np.reshape(img_vec, (1, -1))\n",
    "\n",
    "        caption_ids = sess.run(self.predicting_logits, feed_dict={self.test_image: img_vec})\n",
    "        \n",
    "        caption = []\n",
    "        for i in range(caption_ids.shape[1]):\n",
    "            if(caption_ids[0, i] < 0):\n",
    "                break\n",
    "            caption.append(dec_map[caption_ids[0, i]])\n",
    "            \n",
    "        return caption_ids, caption"
   ]
  },
  {
   "cell_type": "code",
   "execution_count": 14,
   "metadata": {
    "collapsed": true
   },
   "outputs": [],
   "source": [
    "def get_hparams():\n",
    "    hparams = tf.contrib.training.HParams(\n",
    "      vocab_size=vocab_size,\n",
    "      batch_size=128,\n",
    "      rnn_units=100,\n",
    "      image_embedding_size=256,\n",
    "      word_embedding_size=256,\n",
    "      drop_keep_prob=0.7,\n",
    "      lr=2e-4,\n",
    "      training_epochs=2,\n",
    "      max_caption_len=15,\n",
    "      ckpt_dir='model_ckpt/',\n",
    "        print_frequency=100,\n",
    "        save_frequency=4000,\n",
    "        log_file='ver1.txt')\n",
    "    return hparams"
   ]
  },
  {
   "cell_type": "code",
   "execution_count": 15,
   "metadata": {
    "collapsed": false
   },
   "outputs": [
    {
     "name": "stdout",
     "output_type": "stream",
     "text": [
      "INFO:tensorflow:Restoring parameters from model_ckpt/model.ckpt-40000\n",
      "step 0, loss = 2.02967 (98.7 examples/sec; 1.296 sec/batch)\n",
      "step 100, loss = 2.12561 (3348.1 examples/sec; 0.038 sec/batch)\n",
      "step 200, loss = 2.08273 (3768.9 examples/sec; 0.034 sec/batch)\n",
      "step 300, loss = 2.25347 (2747.4 examples/sec; 0.047 sec/batch)\n",
      "step 400, loss = 1.95879 (3122.9 examples/sec; 0.041 sec/batch)\n",
      "step 500, loss = 2.24160 (2806.8 examples/sec; 0.046 sec/batch)\n",
      "step 600, loss = 2.32181 (3867.9 examples/sec; 0.033 sec/batch)\n",
      "step 700, loss = 2.14403 (3770.8 examples/sec; 0.034 sec/batch)\n",
      "step 800, loss = 2.33176 (3772.7 examples/sec; 0.034 sec/batch)\n",
      "step 900, loss = 2.10781 (3156.0 examples/sec; 0.041 sec/batch)\n",
      "step 1000, loss = 1.99909 (2335.9 examples/sec; 0.055 sec/batch)\n",
      "step 1100, loss = 2.08612 (4112.6 examples/sec; 0.031 sec/batch)\n",
      "step 1200, loss = 2.09239 (3377.0 examples/sec; 0.038 sec/batch)\n",
      "step 1300, loss = 2.11553 (2261.5 examples/sec; 0.057 sec/batch)\n",
      "step 1400, loss = 2.14501 (3682.2 examples/sec; 0.035 sec/batch)\n",
      "step 1500, loss = 2.18547 (3116.0 examples/sec; 0.041 sec/batch)\n",
      "step 1600, loss = 2.03818 (4189.7 examples/sec; 0.031 sec/batch)\n",
      "step 1700, loss = 2.08217 (4677.0 examples/sec; 0.027 sec/batch)\n",
      "step 1800, loss = 2.15851 (4340.0 examples/sec; 0.029 sec/batch)\n",
      "step 1900, loss = 1.99858 (3203.4 examples/sec; 0.040 sec/batch)\n",
      "step 2000, loss = 2.17999 (5024.2 examples/sec; 0.025 sec/batch)\n",
      "step 2100, loss = 2.04736 (5632.8 examples/sec; 0.023 sec/batch)\n",
      "step 2200, loss = 2.18120 (2830.1 examples/sec; 0.045 sec/batch)\n",
      "step 2300, loss = 2.04758 (1421.9 examples/sec; 0.090 sec/batch)\n",
      "step 2400, loss = 2.20813 (2703.1 examples/sec; 0.047 sec/batch)\n",
      "step 2500, loss = 2.17734 (4897.3 examples/sec; 0.026 sec/batch)\n",
      "step 2600, loss = 2.13165 (2617.9 examples/sec; 0.049 sec/batch)\n",
      "step 2700, loss = 2.16227 (2197.3 examples/sec; 0.058 sec/batch)\n",
      "step 2800, loss = 2.18489 (4964.4 examples/sec; 0.026 sec/batch)\n",
      "step 2900, loss = 2.06359 (4564.1 examples/sec; 0.028 sec/batch)\n",
      "step 3000, loss = 2.22021 (5402.5 examples/sec; 0.024 sec/batch)\n",
      "step 3100, loss = 2.09638 (2074.5 examples/sec; 0.062 sec/batch)\n",
      "step 3200, loss = 2.09392 (3024.8 examples/sec; 0.042 sec/batch)\n",
      "step 3300, loss = 2.13275 (3493.8 examples/sec; 0.037 sec/batch)\n",
      "step 3400, loss = 2.13975 (4044.1 examples/sec; 0.032 sec/batch)\n",
      "step 3500, loss = 2.22839 (4897.6 examples/sec; 0.026 sec/batch)\n",
      "step 3600, loss = 2.13640 (4061.8 examples/sec; 0.032 sec/batch)\n",
      "step 3700, loss = 2.03174 (2124.4 examples/sec; 0.060 sec/batch)\n",
      "step 3800, loss = 2.02695 (4027.7 examples/sec; 0.032 sec/batch)\n",
      "step 3900, loss = 2.12627 (2527.0 examples/sec; 0.051 sec/batch)\n",
      "step 4000, loss = 2.20505 (4578.8 examples/sec; 0.028 sec/batch)\n",
      "step 4100, loss = 2.06394 (5347.5 examples/sec; 0.024 sec/batch)\n",
      "step 4200, loss = 2.12025 (2002.7 examples/sec; 0.064 sec/batch)\n",
      "step 4300, loss = 2.12953 (1794.7 examples/sec; 0.071 sec/batch)\n",
      "step 4400, loss = 2.18360 (4655.9 examples/sec; 0.027 sec/batch)\n",
      "step 4500, loss = 2.11175 (5012.1 examples/sec; 0.026 sec/batch)\n",
      "step 4600, loss = 1.99991 (3584.5 examples/sec; 0.036 sec/batch)\n",
      "step 4700, loss = 2.11148 (3928.6 examples/sec; 0.033 sec/batch)\n",
      "step 4800, loss = 1.99619 (3841.7 examples/sec; 0.033 sec/batch)\n",
      "step 4900, loss = 2.17779 (3954.3 examples/sec; 0.032 sec/batch)\n",
      "step 5000, loss = 2.09407 (4194.7 examples/sec; 0.031 sec/batch)\n",
      "step 5100, loss = 2.09682 (2949.5 examples/sec; 0.043 sec/batch)\n",
      "step 5200, loss = 2.12569 (4899.3 examples/sec; 0.026 sec/batch)\n",
      "step 5300, loss = 1.81554 (5469.7 examples/sec; 0.023 sec/batch)\n",
      "step 5400, loss = 2.07181 (2329.7 examples/sec; 0.055 sec/batch)\n",
      "step 5500, loss = 1.91032 (5811.8 examples/sec; 0.022 sec/batch)\n",
      "step 5600, loss = 2.12903 (2349.6 examples/sec; 0.054 sec/batch)\n",
      "step 5700, loss = 2.02328 (4865.2 examples/sec; 0.026 sec/batch)\n",
      "step 5800, loss = 2.05031 (4451.5 examples/sec; 0.029 sec/batch)\n",
      "step 5900, loss = 2.14776 (3142.0 examples/sec; 0.041 sec/batch)\n",
      "step 6000, loss = 2.10069 (3564.7 examples/sec; 0.036 sec/batch)\n",
      "step 6100, loss = 2.01570 (4180.6 examples/sec; 0.031 sec/batch)\n",
      "step 6200, loss = 2.01047 (4225.4 examples/sec; 0.030 sec/batch)\n",
      "step 6300, loss = 2.27085 (1694.9 examples/sec; 0.076 sec/batch)\n",
      "step 6400, loss = 2.06748 (3802.6 examples/sec; 0.034 sec/batch)\n",
      "step 6500, loss = 2.05503 (5166.3 examples/sec; 0.025 sec/batch)\n",
      "step 6600, loss = 1.97175 (5441.6 examples/sec; 0.024 sec/batch)\n",
      "step 6700, loss = 2.14680 (4842.6 examples/sec; 0.026 sec/batch)\n",
      "step 6800, loss = 2.27209 (3263.1 examples/sec; 0.039 sec/batch)\n",
      "step 6900, loss = 2.20531 (4678.0 examples/sec; 0.027 sec/batch)\n",
      "step 7000, loss = 2.09472 (4008.1 examples/sec; 0.032 sec/batch)\n",
      "step 7100, loss = 2.20445 (2107.9 examples/sec; 0.061 sec/batch)\n",
      "step 7200, loss = 2.14124 (2149.6 examples/sec; 0.060 sec/batch)\n",
      "step 7300, loss = 2.18317 (1684.2 examples/sec; 0.076 sec/batch)\n",
      "step 7400, loss = 2.14801 (2752.1 examples/sec; 0.047 sec/batch)\n",
      "step 7500, loss = 2.04693 (4669.4 examples/sec; 0.027 sec/batch)\n",
      "step 7600, loss = 1.97777 (5057.5 examples/sec; 0.025 sec/batch)\n",
      "step 7700, loss = 2.08849 (4782.5 examples/sec; 0.027 sec/batch)\n",
      "step 7800, loss = 2.07651 (405.4 examples/sec; 0.316 sec/batch)\n",
      "step 7900, loss = 2.01549 (1433.9 examples/sec; 0.089 sec/batch)\n",
      "step 8000, loss = 1.97826 (5192.7 examples/sec; 0.025 sec/batch)\n"
     ]
    }
   ],
   "source": [
    "# get hperparameters\n",
    "hparams = get_hparams()\n",
    "# create model\n",
    "tf.reset_default_graph()\n",
    "model = ImageCaptionModel(hparams)\n",
    "model.build()\n",
    "# start training\n",
    "config = tf.ConfigProto()\n",
    "config.gpu_options.per_process_gpu_memory_fraction=0.8\n",
    "config.gpu_options.allow_growth = True\n",
    "sess = tf.Session(config=config)\n",
    "model.train(sess, training_filenames, num_train_records, \"40000\")"
   ]
  },
  {
   "cell_type": "code",
   "execution_count": 34,
   "metadata": {
    "collapsed": false
   },
   "outputs": [
    {
     "name": "stdout",
     "output_type": "stream",
     "text": [
      "INFO:tensorflow:Restoring parameters from model_ckpt/model.ckpt-8000\n",
      "[2045  166 1637  453  782 1405 2284 1612 2045 1195    1]\n",
      "['a', 'train', 'is', 'traveling', 'down', 'the', 'tracks', 'near', 'a', 'platform', '<ED>']\n"
     ]
    }
   ],
   "source": [
    "# get hperparameters\n",
    "hparams = get_hparams()\n",
    "# create model\n",
    "tf.reset_default_graph()\n",
    "model = ImageCaptionModel(hparams)\n",
    "model.build()\n",
    "# start training\n",
    "testimg = img_train_df.iloc[10]['img']\n",
    "\n",
    "config = tf.ConfigProto()\n",
    "config.gpu_options.per_process_gpu_memory_fraction=0.8\n",
    "config.gpu_options.allow_growth = True\n",
    "sess = tf.Session(config=config)\n",
    "ids, caption = model.predict(sess, testimg, dec_map, \"8000\")\n",
    "print(ids[0])\n",
    "print(caption)"
   ]
  },
  {
   "cell_type": "code",
   "execution_count": 16,
   "metadata": {
    "collapsed": true
   },
   "outputs": [],
   "source": [
    "import _pickle as cPickle\n",
    "import numpy as np\n",
    "import tensorflow as tf\n",
    "\n",
    "class PretrainedCNN:\n",
    "    def __init__(self, weight_path, mdl_name='vgg16'):\n",
    "        self.mdl_name = mdl_name\n",
    "        self.model = self.build_model(weight_path)\n",
    "    def build_model(self, weight_path):\n",
    "        if self.mdl_name == 'vgg16':\n",
    "            self.params = []\n",
    "            ws = cPickle.load(open(weight_path, 'rb'))\n",
    "            self.img = tf.placeholder(tf.float32, [None, 224, 224, 3])\n",
    "            self.label = tf.placeholder(tf.float32, [None, 1000])\n",
    "            x = self.img\n",
    "            x = self.conv('conv1_1', x, ws[:2])\n",
    "            x = self.conv('conv1_2', x, ws[2:4])\n",
    "            x = self.pool('pool1', x)\n",
    "            x = self.conv('conv2_1', x, ws[4:6])\n",
    "            x = self.conv('conv2_2', x, ws[6:8])\n",
    "            x = self.pool('pool2', x)\n",
    "            x = self.conv('conv3_1', x, ws[8:10])\n",
    "            x = self.conv('conv3_2', x, ws[10:12])\n",
    "            x = self.conv('conv3_3', x, ws[12:14])\n",
    "            x = self.pool('pool3', x)\n",
    "            x = self.conv('conv4_1', x, ws[14:16])\n",
    "            x = self.conv('conv4_2', x, ws[16:18])\n",
    "            x = self.conv('conv4_3', x, ws[18:20])\n",
    "            x = self.pool('pool4', x)\n",
    "            x = self.conv('conv5_1', x, ws[20:22])\n",
    "            x = self.conv('conv5_2', x, ws[22:24])\n",
    "            x = self.conv('conv5_3', x, ws[24:26])\n",
    "            x = self.pool('pool5', x)\n",
    "            s = int(np.prod(x.get_shape()[1:]))\n",
    "            self.ext = tf.reshape(x, [-1, s])\n",
    "            x = self.fc('fc1', self.ext, ws[26:28])\n",
    "            x = self.fc('fc2', x, ws[28:30])\n",
    "            self.out = self.fc('pred', x, ws[30:32], act=False)\n",
    "    def conv(self, name, x, ws):\n",
    "        with tf.name_scope(name) as scope:\n",
    "            W = tf.Variable(ws[0], trainable=True, name='weights')\n",
    "            b = tf.Variable(ws[1], trainable=True, name='biases')\n",
    "            conv = tf.nn.conv2d(x, W, [1,1,1,1], padding='SAME')\n",
    "            out = tf.nn.relu(tf.nn.bias_add(conv, b), name=scope)\n",
    "            self.params += [W, b]\n",
    "            return out\n",
    "    def pool(self, name, x):\n",
    "        return tf.nn.max_pool(x, ksize=[1,2,2,1], strides=[1,2,2,1], padding='SAME', name=name)\n",
    "    def fc(self, name, x, ws, act=True):\n",
    "        with tf.name_scope(name) as scope:\n",
    "            W = tf.Variable(ws[0], trainable=True, name='weights')\n",
    "            b = tf.Variable(ws[1], trainable=True, name='biases')\n",
    "            out = tf.nn.bias_add(tf.matmul(x, W), b)\n",
    "            out = tf.nn.relu(out) if act else out\n",
    "            self.params += [W, b]\n",
    "            return out\n",
    "    def get_output(self, sess, X):\n",
    "        layer_outputs = sess.run([self.ext], feed_dict={self.img:X})\n",
    "        return layer_outputs"
   ]
  },
  {
   "cell_type": "code",
   "execution_count": 17,
   "metadata": {
    "collapsed": false
   },
   "outputs": [
    {
     "data": {
      "image/jpeg": "[encoded data removed]",
      "text/plain": [
       "<IPython.core.display.Image object>"
      ]
     },
     "metadata": {},
     "output_type": "display_data"
    },
    {
     "name": "stderr",
     "output_type": "stream",
     "text": [
      "/home/assistant/anaconda3/envs/ros/lib/python3.6/site-packages/skimage/transform/_warps.py:110: UserWarning: Anti-aliasing will be enabled by default in skimage 0.15 to avoid aliasing artifacts when down-sampling images.\n",
      "  warn(\"Anti-aliasing will be enabled by default in skimage 0.15 to \"\n"
     ]
    },
    {
     "name": "stdout",
     "output_type": "stream",
     "text": [
      "INFO:tensorflow:Restoring parameters from model_ckpt/model.ckpt-8000\n",
      "[2045  466 1637 1488 2045  929  891 2045 2185    1]\n",
      "['a', 'man', 'is', 'riding', 'a', 'skateboard', 'on', 'a', 'ramp', '<ED>']\n"
     ]
    }
   ],
   "source": [
    "%matplotlib inline\n",
    "import matplotlib.pyplot as plt\n",
    "from IPython.display import Image, display\n",
    "import imageio\n",
    "import skimage.transform\n",
    "import numpy as np\n",
    "import scipy\n",
    "\n",
    "def demo(img_path, cnn_mdl, U, dec_map, hparams, max_len=15):\n",
    "    \"\"\"\n",
    "    displays the caption generated for the image\n",
    "    -------------------------------\n",
    "    img_path: image to be captioned\n",
    "    cnn_mdl: path of the image feature extractor\n",
    "    U: transform matrix to perform PCA\n",
    "    dec_map: mapping of vocabulary ID => token string\n",
    "    hparams: hyperparams for model\n",
    "    \"\"\"\n",
    "\n",
    "    def process_image(img, crop=True, submean=True):\n",
    "        \"\"\"\n",
    "        implements the image preprocess required by VGG-16\n",
    "        -------------------------------\n",
    "        resize image to 224 x 224\n",
    "        crop: do center-crop [skipped by default]\n",
    "        submean: substracts mean image of ImageNet [skipped by default]\n",
    "        \"\"\"\n",
    "        MEAN = np.array([103.939, 116.779, 123.68]).astype(np.float32) # BGR\n",
    "        # center crop\n",
    "        short_edge = min(img.shape[:2])\n",
    "        yy = int((img.shape[0] - short_edge) / 2)\n",
    "        xx = int((img.shape[1] - short_edge) / 2)\n",
    "        crop_img = img[yy: yy + short_edge, xx: xx + short_edge]\n",
    "        img = skimage.transform.resize(crop_img, [224, 224, 3], mode=\"constant\")\n",
    "        img = img.reshape((224,224,1)) if len(img.shape) < 3 else img\n",
    "        \n",
    "        if img.shape[2] < 3:\n",
    "            print('dimension insufficient')\n",
    "            img = img.reshape((224*224,\n",
    "                               img.shape[2])).T.reshape((img.shape[2],\n",
    "                                                                 224*224))\n",
    "            for i in range(img.shape[0], 3):\n",
    "                img = np.vstack([img, img[0,:]])\n",
    "            img = img.reshape((3,224*224)).T.reshape((224,224,3))\n",
    "        img = img.astype(np.float32)\n",
    "        img = img[:,:,::-1]\n",
    "        # RGB => BGR\n",
    "        for i in range(3):\n",
    "            img[:,:,i] -= MEAN[i]\n",
    "        return img.reshape((224,224,3))\n",
    "\n",
    "    display(Image(img_path))\n",
    "    img = imageio.imread(img_path)\n",
    "    \n",
    "    # load pretrained cnn model\n",
    "    config = tf.ConfigProto()\n",
    "    config.gpu_options.allow_growth = True\n",
    "    with tf.Session(config=config) as sess:\n",
    "        sess.run(tf.global_variables_initializer())\n",
    "        img_feature = np.dot(\n",
    "            cnn_mdl.get_output(sess, [process_image(img)])[0].reshape((-1)), U)\n",
    "        \n",
    "    # reset graph for image caption model\n",
    "    tf.reset_default_graph()  \n",
    "    model = ImageCaptionModel(hparams)\n",
    "    model.build()\n",
    "    config = tf.ConfigProto()\n",
    "    config.gpu_options.per_process_gpu_memory_fraction=0.8\n",
    "    config.gpu_options.allow_growth = True\n",
    "    sess = tf.Session(config=config)\n",
    "    ids, caption = model.predict(sess, img_feature, dec_map, \"8000\")\n",
    "    print(ids[0])\n",
    "    print(caption)\n",
    "\n",
    "\n",
    "tf.reset_default_graph()  # reset graph for cnn model\n",
    "U = cPickle.load(open('dataset/U.pkl', 'rb'))  # PCA transforming matrix\n",
    "vgg = PretrainedCNN('dataset/vgg16_mat.pkl')\n",
    "demo('dataset/test1.jpg', vgg, U, dec_map, hparams)"
   ]
  },
  {
   "cell_type": "code",
   "execution_count": 37,
   "metadata": {
    "collapsed": true
   },
   "outputs": [],
   "source": [
    "model_version=\"8000\"\n",
    "def generate_captions(model, dec_map, img_test, max_len=15):\n",
    "    img_ids, caps = [], []\n",
    "  \n",
    "    with tf.Session() as sess:\n",
    "        # restore variables from disk. \n",
    "        saver = tf.train.Saver()\n",
    "        saver.restore(sess, get_hparams().ckpt_dir+'model.ckpt-'+model_version)\n",
    "        print(\"Start testing...\")\n",
    "        for img_id, img in img_test.items():\n",
    "            img_ids.append(img_id)\n",
    "            _, caption = model.predict(sess, img, dec_map, None, False)\n",
    "            caps.append(caption)\n",
    "            print(\"ID : \"+img_id + \" ,Caption : \"+\" \".join(caption), file=open(get_hparams().log_file, \"a\"))\n",
    "    \n",
    "    return pd.DataFrame({\n",
    "              'img_id': img_ids,\n",
    "              'caption': caps\n",
    "            }).set_index(['img_id'])"
   ]
  },
  {
   "cell_type": "code",
   "execution_count": 40,
   "metadata": {
    "collapsed": false
   },
   "outputs": [],
   "source": [
    "# load test image  size=20548\n",
    "img_test = cPickle.load(open('dataset/test_img256.pkl', 'rb'))\n",
    "\n",
    "# create model\n",
    "# tf.reset_default_graph()\n",
    "# model = ImageCaptionModel(hparams)\n",
    "# model.build()\n",
    "\n",
    "# generate caption to csv file\n",
    "df_predict = generate_captions(model, dec_map, img_test)\n",
    "df_predict.to_csv('predict/demo.csv')"
   ]
  },
  {
   "cell_type": "code",
   "execution_count": 3,
   "metadata": {
    "collapsed": false
   },
   "outputs": [
    {
     "data": {
      "text/plain": [
       "0"
      ]
     },
     "execution_count": 3,
     "metadata": {},
     "output_type": "execute_result"
    }
   ],
   "source": [
    "import os\n",
    "\n",
    "os.system('cd CIDErD && ./gen_score -i ../predict/demo.csv -r ../predict/score.csv')"
   ]
  },
  {
   "cell_type": "code",
   "execution_count": null,
   "metadata": {
    "collapsed": true
   },
   "outputs": [],
   "source": [
    "os.system('remote add origin https://github.com/jackraken/Tensorflow-ImageCaption.git')"
   ]
  },
  {
   "cell_type": "code",
   "execution_count": null,
   "metadata": {
    "collapsed": true
   },
   "outputs": [],
   "source": []
  },
  {
   "cell_type": "code",
   "execution_count": null,
   "metadata": {
    "collapsed": true
   },
   "outputs": [],
   "source": []
  },
  {
   "cell_type": "code",
   "execution_count": null,
   "metadata": {
    "collapsed": true
   },
   "outputs": [],
   "source": []
  }
 ],
 "metadata": {
  "anaconda-cloud": {},
  "kernelspec": {
   "display_name": "Python [conda env:ros]",
   "language": "python",
   "name": "conda-env-ros-py"
  },
  "language_info": {
   "codemirror_mode": {
    "name": "ipython",
    "version": 3
   },
   "file_extension": ".py",
   "mimetype": "text/x-python",
   "name": "python",
   "nbconvert_exporter": "python",
   "pygments_lexer": "ipython3",
   "version": "3.6.5"
  }
 },
 "nbformat": 4,
 "nbformat_minor": 1
}
